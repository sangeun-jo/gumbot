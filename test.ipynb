{
 "cells": [
  {
   "cell_type": "code",
   "execution_count": 27,
   "metadata": {},
   "outputs": [],
   "source": [
    "import os\n",
    "import pandas as pd\n",
    "import numpy as np\n",
    "from numpy import dot\n",
    "from numpy.linalg import norm \n",
    "import ast \n",
    "import openai\n",
    "import streamlit as st\n",
    "from streamlit_chat import message\n",
    "from dotenv import load_dotenv\n",
    "\n"
   ]
  },
  {
   "cell_type": "code",
   "execution_count": 28,
   "metadata": {},
   "outputs": [],
   "source": [
    "load_dotenv()\n",
    "client = openai.OpenAI(api_key=os.getenv(\"OPENAI_KEY\"))\n",
    "\n",
    "def get_embedding(text):\n",
    "    \n",
    "    response = client.embeddings.create(\n",
    "        model=\"text-embedding-ada-002\",\n",
    "        input=text\n",
    "    )\n",
    "    return response.data[0].embedding\n",
    "\n",
    "folder_path = \"C:\\dev\\chat-gpt-prg\\ch05\\data\"\n",
    "file_name = 'embeddings.csv'\n",
    "file_path = os.path.join(folder_path, file_name)"
   ]
  },
  {
   "cell_type": "code",
   "execution_count": 29,
   "metadata": {},
   "outputs": [
    {
     "name": "stdout",
     "output_type": "stream",
     "text": [
      "======파일 경로=======\n",
      "C:\\dev\\chat-gpt-prg\\ch05\\data\\embeddings.csv\n"
     ]
    }
   ],
   "source": [
    "print(\"======파일 경로=======\")\n",
    "print(file_path)\n",
    "\n"
   ]
  },
  {
   "cell_type": "code",
   "execution_count": 32,
   "metadata": {},
   "outputs": [],
   "source": [
    "if os.path.isfile(file_path):\n",
    "    print(\"File already exists\")\n",
    "    df = pd.read_csv(file_path)\n",
    "    df['embedding'] = df['embedding'].apply(ast.literal_eval)\n",
    "\n",
    "else:\n",
    "    txt_file = [file for file in os.listdir(folder_path) if file.endswith('.txt')]\n",
    "    data = []\n",
    "    for file in txt_file:\n",
    "        txt_file_path = os.path.join(folder_path, file)\n",
    "        with open(txt_file_path, 'r', encoding='utf-8') as f:\n",
    "            text = f.read()\n",
    "            data.append(text)\n",
    "    \n",
    "    df = pd.DataFrame(data, columns=['text'])\n",
    "    \n",
    "    df['embedding'] = df.apply(lambda row: get_embedding(row.text), axis=1)\n",
    "    df.to_csv(file_path, index=False, encoding='utf-8-sig')"
   ]
  }
 ],
 "metadata": {
  "kernelspec": {
   "display_name": "ch05_env",
   "language": "python",
   "name": "python3"
  },
  "language_info": {
   "codemirror_mode": {
    "name": "ipython",
    "version": 3
   },
   "file_extension": ".py",
   "mimetype": "text/x-python",
   "name": "python",
   "nbconvert_exporter": "python",
   "pygments_lexer": "ipython3",
   "version": "3.8.10"
  }
 },
 "nbformat": 4,
 "nbformat_minor": 2
}
